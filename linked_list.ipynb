{
 "cells": [
  {
   "cell_type": "markdown",
   "metadata": {},
   "source": [
    "# Linked lists\n",
    "## 1. Concept"
   ]
  },
  {
   "cell_type": "markdown",
   "metadata": {},
   "source": [
    "Example first. The following is a diagram of a classical singly linked list:"
   ]
  },
  {
   "cell_type": "markdown",
   "metadata": {},
   "source": [
    "![Singly Linked List Diagram](lectures/img/linked1.jpg)"
   ]
  },
  {
   "cell_type": "markdown",
   "metadata": {},
   "source": [
    "A *linked list* is:\n",
    "- a *linear* sequence of -\n",
    "- elements, each of which connects to the next element by a \"link\"."
   ]
  },
  {
   "cell_type": "markdown",
   "metadata": {},
   "source": [
    "Questions:\n",
    "1. What's the *least* information that you need to traverse a singly linked list?  \n",
    "(BTW, does it remind you of a single-thread treasure hunting movie of Indiana Jones?)\n",
    "2. Treating it as a data structure, can you do a running time anaysis on traverse, insert/delete, prepend/append, in big-O notation?\n",
    "3. How does it compare to an array?\n",
    "  \n",
    "Common programming practice: element + link => node, where \"link\" now points to the next *node* (instead of *element*). In Java:"
   ]
  },
  {
   "cell_type": "code",
   "execution_count": 38,
   "metadata": {},
   "outputs": [
    {
     "data": {
      "text/plain": [
       "com.twosigma.beaker.javash.bkr302fbd0f.Node"
      ]
     },
     "execution_count": 38,
     "metadata": {},
     "output_type": "execute_result"
    }
   ],
   "source": [
    "/** Node of a singly linked list of strings (or places to go for Mr. Jones).*/\n",
    "public class Node {\n",
    "  private String element; // name of place for Indy to visit\n",
    "  private Node next;      // clue to the next destination (via the next Node)\n",
    "  /* Note how the Node class is self-referencing - the definition of\n",
    "     the member variable \"next\" references the class being defined.\n",
    "  */  \n",
    "  /** Create a node with given element and reference to the next node. */\n",
    "  public Node(String element, Node next) {\n",
    "    this.element = element;\n",
    "    this.next = next;\n",
    "  }  \n",
    "  /** Return the element of this node. */\n",
    "  public String getElement() { return element; }\n",
    "  /** Return reference to the next node. */\n",
    "  public Node getNext() { return next; }\n",
    "  /** Set the element of this node. */\n",
    "  public void setElement(String newElem) { element = newElem; }\n",
    "  /** Set reference to the next node. */\n",
    "  public void setNext(Node newNext) { next = newNext; }\n",
    "}"
   ]
  },
  {
   "cell_type": "code",
   "execution_count": 39,
   "metadata": {},
   "outputs": [
    {
     "name": "stdout",
     "output_type": "stream",
     "text": [
      "Test 1 Passed: n={Athens, Berlin}\n",
      "Test 2 Passed: n={Athens, Rome}\n"
     ]
    },
    {
     "data": {
      "text/plain": [
       "null"
      ]
     },
     "execution_count": 39,
     "metadata": {},
     "output_type": "execute_result"
    }
   ],
   "source": [
    "/** example test cases for Node class */\n",
    "import org.junit.Test;\n",
    "import static org.junit.Assert.assertArrayEquals;\n",
    "import static org.junit.Assert.assertSame;\n",
    "import java.util.Arrays;\n",
    "\n",
    "Node[] n = new Node[2];\n",
    "n[0] = new Node(\"Athens\", null);\n",
    "n[1] = new Node(\"Berlin\", n[0]);\n",
    "\n",
    "String[] elements = new String[2];\n",
    "Arrays.setAll(elements, i->n[i].getElement());\n",
    "String[] expectedElements = {\"Athens\", \"Berlin\"};\n",
    "\n",
    "assertSame(n[1].getNext(), n[0]);\n",
    "assertArrayEquals(elements, expectedElements);\n",
    "System.out.println(\"Test 1 Passed: n={\"+n[1].getNext().getElement()+\", \"+n[1].getElement()+\"}\");\n",
    "n[0].setNext(n[1]);\n",
    "n[1].setElement(\"Rome\");\n",
    "elements[1]=n[1].getElement();\n",
    "expectedElements[1] = \"Rome\";\n",
    "\n",
    "System.out.println(\"Test 2 Passed: n={\"+n[0].getElement() + \", \" + n[0].getNext().getElement()+\"}\");"
   ]
  },
  {
   "cell_type": "markdown",
   "metadata": {},
   "source": [
    "And an *incomplete* implementation of the singly linked list class:"
   ]
  },
  {
   "cell_type": "code",
   "execution_count": 32,
   "metadata": {},
   "outputs": [
    {
     "data": {
      "text/plain": [
       "com.twosigma.beaker.javash.bkr302fbd0f.SLinkedList"
      ]
     },
     "execution_count": 32,
     "metadata": {},
     "output_type": "execute_result"
    }
   ],
   "source": [
    "/** Singly linked list.*/\n",
    "public class SLinkedList {\n",
    "  protected Node head; // head node of the list\n",
    "  protected long size; // number of nodes in the list\n",
    "  /** Default constructor that creates an empty list */\n",
    "  public SLinkedList() {\n",
    "    head = null;\n",
    "    size = 0;\n",
    "  }\n",
    "  // ... update and search methods would go here ...\n",
    "}"
   ]
  },
  {
   "cell_type": "markdown",
   "metadata": {},
   "source": [
    "The case with a dummy head:"
   ]
  },
  {
   "cell_type": "code",
   "execution_count": null,
   "metadata": {},
   "outputs": [],
   "source": [
    "/** Singly linked list with a dummy head.*/\n",
    "public class SLinkedList {\n",
    "  protected Node head; // head node of the list\n",
    "  protected long size; // number of nodes in the list\n",
    "  /** Default constructor that creates an empty list */\n",
    "  public SLinkedList() {\n",
    "    head = new Node(null, null); // create a dummy head\n",
    "    size = 0;\n",
    "  }\n",
    "  // ... update and search methods would go here ...\n",
    "}"
   ]
  },
  {
   "cell_type": "markdown",
   "metadata": {},
   "source": [
    "## 2. Operations\n",
    "### 2.1 Trivial operations\n",
    "#### - Insertion at the head (prepend)\n",
    "Insert a new node at the head of the list is straightforward: create a new node, set its next link to the current head, and set head to the new node. ( Note: *Order* is important here!)  \n",
    "  \n",
    "In pseudocode:\n",
    "```\n",
    "Algorithm addFirst(String newData):\n",
    "  create a new node v containing newData\n",
    "  v.setNext(head)\n",
    "  head = v\n",
    "  size = size + 1\n",
    "```\n",
    "In Java:"
   ]
  },
  {
   "cell_type": "code",
   "execution_count": 50,
   "metadata": {},
   "outputs": [
    {
     "data": {
      "text/plain": [
       "com.twosigma.beaker.javash.bkr302fbd0f.SLinkedList"
      ]
     },
     "execution_count": 50,
     "metadata": {},
     "output_type": "execute_result"
    }
   ],
   "source": [
    "public class SLinkedList {\n",
    "  protected Node head; // head node of the list\n",
    "  protected long size; // number of nodes in the list\n",
    "  /** Default constructor that creates an empty list */\n",
    "  public SLinkedList() {\n",
    "    head = null;\n",
    "    size = 0;\n",
    "  }\n",
    "  /** Add new Node at head. */\n",
    "  public void addFirst(String newElem)\n",
    "  {\n",
    "    head = new Node(newElem, head);\n",
    "    size++;\n",
    "  }\n",
    "  /** Return head */\n",
    "  public Node getHead(){ return head; }\n",
    " }"
   ]
  },
  {
   "cell_type": "code",
   "execution_count": 51,
   "metadata": {},
   "outputs": [
    {
     "name": "stdout",
     "output_type": "stream",
     "text": [
      "Cairo Berlin Athens \n"
     ]
    },
    {
     "data": {
      "text/plain": [
       "null"
      ]
     },
     "execution_count": 51,
     "metadata": {},
     "output_type": "execute_result"
    }
   ],
   "source": [
    "// Simple test of prepend().\n",
    "SLinkedList list = new SLinkedList();\n",
    "String[] elements = {\"Athens\", \"Berlin\", \"Cairo\"};\n",
    "for (String e : elements){\n",
    "    list.addFirst(e);\n",
    "}\n",
    "String journey = \"\";\n",
    "Node n = list.getHead();\n",
    "if (n.getElement() == null) // dummy head present\n",
    "    n = n.getNext();\n",
    "for ( ; n != null; n = n.getNext()){\n",
    "    journey += n.getElement() + \" \";\n",
    "}\n",
    "System.out.println(journey);"
   ]
  },
  {
   "cell_type": "markdown",
   "metadata": {},
   "source": [
    "Do we need to change the implementation for the dummy head case?"
   ]
  },
  {
   "cell_type": "code",
   "execution_count": 47,
   "metadata": {},
   "outputs": [
    {
     "data": {
      "text/plain": [
       "com.twosigma.beaker.javash.bkr302fbd0f.SLinkedList"
      ]
     },
     "execution_count": 47,
     "metadata": {},
     "output_type": "execute_result"
    }
   ],
   "source": [
    "public class SLinkedList {\n",
    "  protected Node head; // head node of the list\n",
    "  protected long size; // number of nodes in the list\n",
    "  /** Default constructor that creates an empty list */\n",
    "  public SLinkedList() {\n",
    "    head = new Node(null, null); // create a dummy head\n",
    "    size = 0;\n",
    "  }\n",
    "  /** add new Node at (dummy) head. */\n",
    "  public void addFirst(String newElem)\n",
    "  {\n",
    "    head.setNext(new Node(newElem, head.getNext()));\n",
    "    size++;\n",
    "  }\n",
    "  /** Return head */\n",
    "  public Node getHead(){ return head; }  \n",
    "}"
   ]
  },
  {
   "cell_type": "code",
   "execution_count": null,
   "metadata": {},
   "outputs": [],
   "source": [
    "Insertion at the tail\n",
    "\n",
    "If we keep a reference to the tail node, then it would be easy to insert an element at the tail of the list. Assume we keep a tail node in the class of SLinkedList, the idea is to create a new node, assign its next reference to point to a null object, set the next reference of the tail to point to this new object, and then assign the tail reference itself to this new node. Initially both head and tail point to null object.\n",
    "Algorithm addLast(String newData):\n",
    "  create a new node v containing newData\n",
    "  v.setNext(null)\n",
    "  if (head == null) { // list is empty \n",
    "      head = v\n",
    "  } else { // list is not empty    \n",
    "      tail.setNext(v)\n",
    "  }\n",
    "  tail = v\n",
    "  size = size + 1"
   ]
  },
  {
   "cell_type": "code",
   "execution_count": null,
   "metadata": {},
   "outputs": [],
   "source": [
    "What if we do not know keep a reference to the tail node? How can we modify the code to implement addLast?\n",
    "\n",
    "For a singly linked list with a dummy head, is the code the same?"
   ]
  }
 ],
 "metadata": {
  "kernelspec": {
   "display_name": "Java",
   "language": "java",
   "name": "java"
  },
  "language_info": {
   "codemirror_mode": "text/x-java",
   "file_extension": ".java",
   "mimetype": "",
   "name": "Java",
   "nbconverter_exporter": "",
   "version": "1.8.0_121"
  }
 },
 "nbformat": 4,
 "nbformat_minor": 4
}
