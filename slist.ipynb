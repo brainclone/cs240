{
 "cells": [
  {
   "cell_type": "markdown",
   "metadata": {},
   "source": [
    "# Singly Linked List\n",
    "## 1. Concept"
   ]
  },
  {
   "cell_type": "markdown",
   "metadata": {},
   "source": [
    "Example first. The following is a diagram of a classical Singly Linked List (with and without dummy head):"
   ]
  },
  {
   "cell_type": "markdown",
   "metadata": {},
   "source": [
    "![Singly Linked List Diagram](lectures/img/linked1.jpg)"
   ]
  },
  {
   "cell_type": "markdown",
   "metadata": {},
   "source": [
    "A **Singly Linked List (SLL)** is:\n",
    "- a **linear** sequence of -\n",
    "- elements, each of which connects to the next element by a \"**link**\",\n",
    "- except for the last element, where an \"**end marker**\" is present.\n",
    "\n",
    "There are also double linked lists, circular lists, etc."
   ]
  },
  {
   "cell_type": "markdown",
   "metadata": {},
   "source": [
    "Questions:\n",
    "1. What's the *least* information that you need to traverse an SLL?  \n",
    "(BTW, does it remind you of a single-thread treasure hunting movie of Indiana Jones?)\n",
    "2. Treating it as a data structure, can you do a running time anaysis on traverse, insert/delete, prepend/append, in big-O notation?\n",
    "3. How does it compare to an array?\n",
    "  \n",
    "Common programming practice: data + link => **node**, where \"link\" now points to the next node. In Java:"
   ]
  },
  {
   "cell_type": "code",
   "execution_count": 63,
   "metadata": {},
   "outputs": [
    {
     "data": {
      "text/plain": [
       "com.twosigma.beaker.javash.bkr302fbd0f.Node"
      ]
     },
     "execution_count": 63,
     "metadata": {},
     "output_type": "execute_result"
    }
   ],
   "source": [
    "/** Node of an SLL of strings (or places to go for Mr. Jones).*/\n",
    "public class Node {\n",
    "  private String data; // data object (or name of place for Indy to visit)\n",
    "  private Node next;   // link to the next node. End Marker: next == null. (clue to the next destination)\n",
    "  /* Note how the Node class is self-referencing - the definition of\n",
    "     the member variable \"next\" references the class being defined.\n",
    "  */  \n",
    "  /** Create a node with given data and reference to the next node. */\n",
    "  public Node(String data, Node next) {\n",
    "    this.data = data;\n",
    "    this.next = next;\n",
    "  }  \n",
    "  /** Return the data of this node. */\n",
    "  public String getData() { return data; }\n",
    "  /** Return reference to the next node. */\n",
    "  public Node getNext() { return next; }\n",
    "  /** Set the data of this node. */\n",
    "  public void setData(String newData) { data = newData; }\n",
    "  /** Set reference to the next node. */\n",
    "  public void setNext(Node newNext) { next = newNext; }\n",
    "}"
   ]
  },
  {
   "cell_type": "code",
   "execution_count": 56,
   "metadata": {},
   "outputs": [
    {
     "name": "stdout",
     "output_type": "stream",
     "text": [
      "Test 1 Passed: n={Athens, Berlin}\n",
      "Test 2 Passed: n={Athens, Rome}\n"
     ]
    },
    {
     "data": {
      "text/plain": [
       "null"
      ]
     },
     "execution_count": 56,
     "metadata": {},
     "output_type": "execute_result"
    }
   ],
   "source": [
    "/** example test cases for Node class */\n",
    "import org.junit.Test;\n",
    "import static org.junit.Assert.assertArrayEquals;\n",
    "import static org.junit.Assert.assertSame;\n",
    "import java.util.Arrays;\n",
    "\n",
    "Node[] n = new Node[2];\n",
    "n[0] = new Node(\"Athens\", null);\n",
    "n[1] = new Node(\"Berlin\", n[0]);\n",
    "\n",
    "String[] places = new String[2];\n",
    "Arrays.setAll(places, i->n[i].getData());\n",
    "String[] expectedPlaces = {\"Athens\", \"Berlin\"};\n",
    "// Test 1\n",
    "assertSame(n[1].getNext(), n[0]);\n",
    "assertArrayEquals(places, expectedPlaces);\n",
    "System.out.println(\"Test 1 Passed: n={\"+n[1].getNext().getData()+\", \"+n[1].getData()+\"}\");\n",
    "// Test 2\n",
    "n[0].setNext(n[1]);\n",
    "n[1].setData(\"Rome\");\n",
    "places[1]=n[1].getData();\n",
    "expectedPlaces[1] = \"Rome\";\n",
    "assertArrayEquals(places, expectedPlaces);\n",
    "System.out.println(\"Test 2 Passed: n={\"+n[0].getData() + \", \" + n[0].getNext().getData()+\"}\");"
   ]
  },
  {
   "cell_type": "markdown",
   "metadata": {},
   "source": [
    "And an *incomplete* implementation of the SLL class:"
   ]
  },
  {
   "cell_type": "code",
   "execution_count": 57,
   "metadata": {},
   "outputs": [
    {
     "data": {
      "text/plain": [
       "com.twosigma.beaker.javash.bkr302fbd0f.SLinkedList"
      ]
     },
     "execution_count": 57,
     "metadata": {},
     "output_type": "execute_result"
    }
   ],
   "source": [
    "/** Singly Linked List.*/\n",
    "public class SLinkedList {\n",
    "  protected Node head; // head node of the list\n",
    "  protected long size; // number of nodes in the list\n",
    "  /** Default constructor that creates an empty list */\n",
    "  public SLinkedList() {\n",
    "    head = null;\n",
    "    size = 0;\n",
    "  }\n",
    "  // ... update and search methods would go here ...\n",
    "}"
   ]
  },
  {
   "cell_type": "markdown",
   "metadata": {},
   "source": [
    "The case with a dummy head:"
   ]
  },
  {
   "cell_type": "code",
   "execution_count": 58,
   "metadata": {},
   "outputs": [
    {
     "data": {
      "text/plain": [
       "com.twosigma.beaker.javash.bkr302fbd0f.SLinkedList"
      ]
     },
     "execution_count": 58,
     "metadata": {},
     "output_type": "execute_result"
    }
   ],
   "source": [
    "/** Singly Linked List with a dummy head.*/\n",
    "public class SLinkedList {\n",
    "  protected Node head; // head node of the list\n",
    "  protected long size; // number of nodes in the list\n",
    "  /** Default constructor that creates an empty list */\n",
    "  public SLinkedList() {\n",
    "    head = new Node(null, null); // create a dummy head\n",
    "    size = 0;\n",
    "  }\n",
    "  // ... update and search methods would go here ...\n",
    "}"
   ]
  },
  {
   "cell_type": "markdown",
   "metadata": {},
   "source": [
    "## 2. Operations\n",
    "\n",
    "### 2.1 Trivial operations\n",
    "\n",
    "#### 2.1.1 Insert at the head (prepend)\n",
    "\n",
    "Insert a new node at the head of the list is straightforward:\n",
    "1. create a new node;\n",
    "2. set its next link to the current head;\n",
    "3. set head to the new node.\n",
    "\n",
    "(Note: the *order* is important here!)  \n",
    "In pseudocode:\n",
    "```\n",
    "Algorithm addFirst(String newData):\n",
    "  create a new node n containing newData\n",
    "  n.setNext(head)\n",
    "  head = n\n",
    "  size = size + 1\n",
    "```\n",
    "In Java:"
   ]
  },
  {
   "cell_type": "code",
   "execution_count": 59,
   "metadata": {},
   "outputs": [
    {
     "data": {
      "text/plain": [
       "com.twosigma.beaker.javash.bkr302fbd0f.SLinkedList"
      ]
     },
     "execution_count": 59,
     "metadata": {},
     "output_type": "execute_result"
    }
   ],
   "source": [
    "public class SLinkedList {\n",
    "  protected Node head; // head node of the list\n",
    "  protected long size; // number of nodes in the list\n",
    "  /** Default constructor that creates an empty list */\n",
    "  public SLinkedList() {\n",
    "    head = null;\n",
    "    size = 0;\n",
    "  }\n",
    "  /** Add new Node at head. */\n",
    "  public void addFirst(String newData)\n",
    "  {\n",
    "    head = new Node(newData, head);\n",
    "    size++;\n",
    "  }\n",
    "  /** Return head */\n",
    "  public Node getHead(){ return head; }\n",
    "}"
   ]
  },
  {
   "cell_type": "code",
   "execution_count": 62,
   "metadata": {},
   "outputs": [
    {
     "name": "stdout",
     "output_type": "stream",
     "text": [
      "Cairo Berlin Athens \n"
     ]
    },
    {
     "data": {
      "text/plain": [
       "null"
      ]
     },
     "execution_count": 62,
     "metadata": {},
     "output_type": "execute_result"
    }
   ],
   "source": [
    "// Simple test.\n",
    "SLinkedList list = new SLinkedList();\n",
    "String[] places = {\"Athens\", \"Berlin\", \"Cairo\"};\n",
    "for (String e : places){\n",
    "    list.addFirst(e);\n",
    "}\n",
    "String journey = \"\";\n",
    "Node n = list.getHead();\n",
    "if (n != null && n.getData() == null) // test if dummy head is present\n",
    "    n = n.getNext();\n",
    "for ( ; n != null; n = n.getNext()){\n",
    "    journey += n.getData() + \" \";\n",
    "}\n",
    "System.out.println(journey);"
   ]
  },
  {
   "cell_type": "markdown",
   "metadata": {},
   "source": [
    "Question:\n",
    "- Do we need to change the implementation for the dummy head case?"
   ]
  },
  {
   "cell_type": "code",
   "execution_count": 61,
   "metadata": {},
   "outputs": [
    {
     "data": {
      "text/plain": [
       "com.twosigma.beaker.javash.bkr302fbd0f.SLinkedList"
      ]
     },
     "execution_count": 61,
     "metadata": {},
     "output_type": "execute_result"
    }
   ],
   "source": [
    "public class SLinkedList {\n",
    "  protected Node head; // head node of the list\n",
    "  protected long size; // number of nodes in the list\n",
    "  /** Default constructor that creates an empty list */\n",
    "  public SLinkedList() {\n",
    "    head = new Node(null, null); // create a dummy head\n",
    "    size = 0;\n",
    "  }\n",
    "  /** add new Node at (dummy) head. */\n",
    "  public void addFirst(String newData)\n",
    "  {\n",
    "    head.setNext(new Node(newData, head.getNext()));\n",
    "    size++;\n",
    "  }\n",
    "  /** Return head */\n",
    "  public Node getHead(){ return head; }  \n",
    "}"
   ]
  },
  {
   "cell_type": "markdown",
   "metadata": {},
   "source": [
    "#### 2.1.2 Insert at the tail (append)\n",
    "If we maintain a `tail` reference to the last node, it'd be trivial to insert a node at the list's end. Assuming we have this set up in the `SLinkedList` class, the steps would be similar to `addFirst()`:  \n",
    "1. create a new node with the new data and assign its `next` reference to `null`,\n",
    "2. set the `next` reference of the tail node to the new node,\n",
    "3. set `tail` itself to the new node.\n",
    "```\n",
    "Algorithm addLast(String newData):\n",
    "  create a new node n containing newData\n",
    "  n.setNext(null)\n",
    "  if (head == null) { // list is empty \n",
    "      head = n\n",
    "  } else { // list is not empty    \n",
    "      tail.setNext(n)\n",
    "  }\n",
    "  tail = n\n",
    "  size = size + 1\n",
    "```\n",
    "\n",
    "Questions:\n",
    "- What if we don't have a `tail` reference? How can we modify the code to implement `addLast()`?\n",
    "- For an SLL with a dummy head, do we need to change the code?"
   ]
  },
  {
   "cell_type": "markdown",
   "metadata": {},
   "source": [
    "#### 2.1.3 Delete at the head\n",
    "\n",
    "Removing the first data node from an SLL is also strightforward:\n",
    "```\n",
    "Algorithm removeFirst()\n",
    "  if (head == null) then\n",
    "    Indicate an error: the list is empty\n",
    "  tmp = head\n",
    "  head = head.getNext()\n",
    "  tmp.setNext(null)\n",
    "  size = size - 1\n",
    "```\n",
    "Questions:\n",
    "- How to do this with an SLL with a dummy head?\n",
    "- How to delete the last data node?\n",
    "\n",
    "### 2.2 Traverse an SLL\n",
    "\n",
    "To access any node on an SLL, so that we can compare, search, update, insert and delete at any position, we need to step through, or **traverse**, the chain of references:\n",
    "```\n",
    "Algorithm traverseList()\n",
    "  curNode = head\n",
    "  while (curNode != null)  { // no dummy head\n",
    "     // print out the contents of the current node\n",
    "     curNode = curNode.getNext()\n",
    "  } \n",
    "```\n",
    "Questions:\n",
    " - How to traverse an SLL with a dummy head?\n",
    " - How to (deep) clone, or make a copy of, a linked list?\n",
    " \n",
    "## 2.3. Implementation of SLL With a Dummy Head\n",
    "\n",
    "Here we use a nested class,[<span id=fnoNC><sup>1</sup></span>](#fnNC) and an `Object`[<span id=fnoO><sup>2</sup></span>](#fnO) type payload to accomodate more data types."
   ]
  },
  {
   "cell_type": "code",
   "execution_count": 1,
   "metadata": {},
   "outputs": [
    {
     "data": {
      "text/plain": [
       "com.twosigma.beaker.javash.bkr57de39f2.SLinkedList"
      ]
     },
     "execution_count": 1,
     "metadata": {},
     "output_type": "execute_result"
    }
   ],
   "source": [
    "public class SLinkedList {\n",
    "  private Node head = new Node(null, null); // dummy head\n",
    "  private int size;\n",
    "\n",
    "  public void addFirst(Object object) {\n",
    "    head.next = new Node(object, head.next);\n",
    "    size++;\n",
    "  }\n",
    "\n",
    "  public void addLast(Object object) { // no tail reference\n",
    "    Node temp = head;\n",
    "    while(temp.next != null)\n",
    "      temp = temp.next;\n",
    "\n",
    "   temp.next = new Node(object, null);\n",
    "   size++;\n",
    "  }\n",
    "\n",
    "  public Object first() { // caller of this function: make sure size()>0 to avoid IllegalStateException.\n",
    "    if (size == 0) throw new IllegalStateException(\"the list is empty\");\n",
    "    return head.next.object;\n",
    "  }\n",
    "\n",
    "  public boolean isEmpty() {\n",
    "    return (size == 0);\n",
    "  }\n",
    "\n",
    "  public Object removeFirst() {// caller of this function: make sure size()>0 to avoid IllegalStateException.\n",
    "    if (size == 0) throw new IllegalStateException(\"the list is empty\");\n",
    "\n",
    "    Object object = head.next.object;\n",
    "    head.next = head.next.next;\n",
    "    size--;\n",
    "    return object;\n",
    "  }\n",
    "\n",
    "  public int size() {\n",
    "    return size;\n",
    "  }\n",
    "\n",
    "  private static class Node { // the Node class is defined within the SlinkedList class\n",
    "    Object object;\n",
    "    Node next;\n",
    "\n",
    "    Node(Object object, Node next) {\n",
    "       this.object = object;\n",
    "       this.next = next;\n",
    "    }\n",
    "  }\n",
    "}"
   ]
  },
  {
   "cell_type": "markdown",
   "metadata": {},
   "source": [
    "### 3.1 Programming Exercises\n",
    "Given the SSL implentation above, code the following methods:\n",
    "- removeLast(): remove the last node;\n",
    "- addAfter(Node current, Object newData): add a node after the current node;\n",
    "- getNth(int index): return the data object of the node at positon `index`;\n",
    "- deleteNth(int index): delete the node at position `index`.\n",
    "\n",
    "## 4. Notes On Implementations\n",
    "- *Strictly* follow the order of steps to insert or delete a node to keep your chain sane.\n",
    "- Mind border conditions, i.e, empty list, head, or tail?\n",
    "- Our implementations have an extra class: `SLinkedList`, which organizes the `Node` objects together into an SLL. The textbook uses only a Node class (`IntNode`, to be exact), which uses minimal information, is beautiful in its own way, and works well with recursive algorithms. Make sure you understand it and compare with the 2-class design (e.g., design complexity, performance of some operations, and which one is more of canonical [OOD](https://www.geeksforgeeks.org/ood-principles-solid/)?\n",
    "\n",
    "## 5. Array vs SLL\n",
    " \n",
    "| Operations | Array | Linked List |\n",
    "| - | - | - |\n",
    "| Access | random (immediate) | sequential |\n",
    "| Insertion/Deletion | push entries over | Other entries stay put |\n",
    "| Storage | allocated at declaration or fixed | allocated when needed (dynamically); links consume extra space |\n",
    "---"
   ]
  },
  {
   "cell_type": "markdown",
   "metadata": {},
   "source": [
    "#### Footnotes\n",
    "\n",
    "<span id=fnNC><a href=\"#fnoNC\"><sup>1</sup></a></span> In Java, a nested class is any class whose definition is inside the definition of another class. See the Java Documentation [here](https://docs.oracle.com/javase/tutorial/java/javaOO/nested.html) to learn more. \n",
    "\n",
    "<span id=fnO><a href=\"#fnoO\"><sup>2</sup></a></span> The `Object` class is the root of the Java class hierarchy. Learn more [here](https://docs.oracle.com/javase/7/docs/api/java/lang/Object.html)."
   ]
  }
 ],
 "metadata": {
  "kernelspec": {
   "display_name": "Java",
   "language": "java",
   "name": "java"
  },
  "language_info": {
   "codemirror_mode": "text/x-java",
   "file_extension": ".java",
   "mimetype": "",
   "name": "Java",
   "nbconverter_exporter": "",
   "version": "1.8.0_121"
  }
 },
 "nbformat": 4,
 "nbformat_minor": 4
}
