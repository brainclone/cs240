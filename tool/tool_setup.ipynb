{
 "cells": [
  {
   "cell_type": "markdown",
   "metadata": {},
   "source": [
    "# The CS240 Toolkit"
   ]
  },
  {
   "cell_type": "markdown",
   "metadata": {},
   "source": [
    "## Work"
   ]
  },
  {
   "cell_type": "markdown",
   "metadata": {},
   "source": [
    "### conda"
   ]
  },
  {
   "cell_type": "markdown",
   "metadata": {},
   "source": [
    "Add a new channel \"conda-forge\" to download packages from. Then, create a new environment named \"jlab\" with BeakerX, JupyterLab, JupyterLab-Git, Git installed."
   ]
  },
  {
   "cell_type": "markdown",
   "metadata": {},
   "source": [
    "```\n",
    "conda config --add channels conda-forge\n",
    "conda create -y --name jlab 'python>=3'\n",
    "conda activate jlab\n",
    "conda config --env --add pinned_packages 'openjdk>8.0.121'\n",
    "conda install -y -c conda-forge beakerx ipywidgets jupyterlab-git jupyterlab git\n",
    "jupyter labextension install @jupyter-widgets/jupyterlab-manager\n",
    "jupyter labextension install beakerx-jupyterlab\n",
    "```"
   ]
  },
  {
   "cell_type": "markdown",
   "metadata": {},
   "source": [
    "Every time you update your enviroment, i.e., update old or install new packages in your environment, first make sure it still works for your project, then produce an explicit list of packages of your working environment, save it as a environment specification file in your local project folder, and commit it to git. \n",
    "If furture environment changes mess up your project up and you won't want to adapt your project to the new environment, you can reproduce old working environments with the explicit lists. (I wish we could do that for dynasaurs!) You can also use/share this spec file to clone the enviroment in another directory or on another computer."
   ]
  },
  {
   "cell_type": "markdown",
   "metadata": {},
   "source": [
    "```\n",
    "conda list --explicit > env_spec\n",
    "git add env_spec\n",
    "git commit -m \"What I did the enviroment (and it's still working!)\"\n",
    "```"
   ]
  },
  {
   "cell_type": "markdown",
   "metadata": {},
   "source": [
    "To use the spec file to create an identical environment on the same machine or another machine:\n",
    "\n",
    "`conda create --name new_env --file env_spec`\n",
    "\n",
    "To use the spec file to install its listed packages into an existing environment:\n",
    "\n",
    "`conda install --name myenv --file env_spec`"
   ]
  },
  {
   "cell_type": "code",
   "execution_count": null,
   "metadata": {},
   "outputs": [],
   "source": [
    "### Git"
   ]
  },
  {
   "cell_type": "markdown",
   "metadata": {},
   "source": [
    "Now set up a Git repository. (If you are not familiar with Git, A quick tutorial/cheat sheet can be found [here](https://rogerdudler.github.io/git-guide/).)  \n",
    "For Windows, run `git-bash` from your Start menu and execute the commands below:"
   ]
  },
  {
   "cell_type": "markdown",
   "metadata": {},
   "source": [
    "```\n",
    "cd ~\n",
    "mkdir -p prj/cs240\n",
    "git clone "
   ]
  },
  {
   "cell_type": "code",
   "execution_count": 3,
   "metadata": {},
   "outputs": [
    {
     "data": {
      "text/plain": [
       "' This one renders html files without .html postfix.\\nfrom IPython.display import HTML\\n\\nHTML(filename=\"lectures/java_basics.htm\") # this one was renamed to .html already.\\n'"
      ]
     },
     "execution_count": 3,
     "metadata": {},
     "output_type": "execute_result"
    }
   ],
   "source": [
    "\"\"\" This one renders html files without .html postfix.\n",
    "from IPython.display import HTML\n",
    "\n",
    "HTML(filename=\"lectures/java_basics.htm\") # this one was renamed to .html already.\n",
    "\"\"\"\n"
   ]
  },
  {
   "cell_type": "markdown",
   "metadata": {},
   "source": [
    "\n",
    "\n",
    ">*some quotes*\n",
    "whatever\n",
    "aabbcc"
   ]
  },
  {
   "cell_type": "markdown",
   "metadata": {},
   "source": [
    "$ sum(x^from IPython.display import HTML\n",
    "\n",
    "HTML(filename=\"profiling/z2pDecisionTreeProfiling.html\")2)$"
   ]
  },
  {
   "cell_type": "markdown",
   "metadata": {},
   "source": [
    "conda config --add channels conda-forge> Some more **BOLD** quotes here.\n",
    ">    and here."
   ]
  },
  {
   "cell_type": "markdown",
   "metadata": {},
   "source": [
    "[A link](http://google.com)"
   ]
  },
  {
   "cell_type": "markdown",
   "metadata": {},
   "source": [
    "---"
   ]
  },
  {
   "cell_type": "markdown",
   "metadata": {},
   "source": [
    "![a picture of sheep](sheep.jpg)"
   ]
  }
 ],
 "metadata": {
  "kernelspec": {
   "display_name": "Python 3",
   "language": "python",
   "name": "python3"
  },
  "language_info": {
   "codemirror_mode": {
    "name": "ipython",
    "version": 3
   },
   "file_extension": ".py",
   "mimetype": "text/x-python",
   "name": "python",
   "nbconvert_exporter": "python",
   "pygments_lexer": "ipython3",
   "version": "3.8.5"
  }
 },
 "nbformat": 4,
 "nbformat_minor": 4
}
