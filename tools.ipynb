{
 "cells": [
  {
   "cell_type": "markdown",
   "metadata": {},
   "source": [
    "# The CS240 Toolkit"
   ]
  },
  {
   "cell_type": "markdown",
   "metadata": {},
   "source": [
    "## Work"
   ]
  },
  {
   "cell_type": "markdown",
   "metadata": {},
   "source": [
    "### conda"
   ]
  },
  {
   "cell_type": "markdown",
   "metadata": {},
   "source": [
    "Add a new channel \"conda-forge\" to download packages from. Then, create a new environment named \"jlab\"."
   ]
  },
  {
   "cell_type": "markdown",
   "metadata": {},
   "source": [
    "```\n",
    "conda config --add channels conda-forge\n",
    "conda create --name jlab beakerx jupyterlab-git jupyterlab git \n",
    "conda activate jlab\n",
    "```"
   ]
  },
  {
   "cell_type": "markdown",
   "metadata": {},
   "source": [
    "Every time you update your enviroment, i.e., update old or install new packages in your environment, first make sure it still works for your project, then produce an explicit list of packages of your working environment, save it as a environment specification file in your local project folder, and commit it to git. If furture environment change messes up your project up and you won't want to adapt your project to the new environment, you can reproduce old working environments with the explicit lists. (I wish we could do that for dynasaurs!) You can also use/share this spec file to clone the enviroment in another directory or on another computer."
   ]
  },
  {
   "cell_type": "markdown",
   "metadata": {},
   "source": [
    "```\n",
    "conda list --explicit > env_spec\n",
    "git add env_spec\n",
    "git commit -m \"What I did the enviroment (and it's still working!)\"\n",
    "```"
   ]
  },
  {
   "cell_type": "markdown",
   "metadata": {},
   "source": [
    "To use the spec file to create an identical environment on the same machine or another machine:\n",
    "\n",
    "`conda create --name new_env --file env_spec`\n",
    "\n",
    "To use the spec file to install its listed packages into an existing environment:\n",
    "\n",
    "`conda install --name myenv --file env_spec`"
   ]
  },
  {
   "cell_type": "markdown",
   "metadata": {},
   "source": [
    ">*some quotes*\n",
    "whatever\n",
    "aabbcc"
   ]
  },
  {
   "cell_type": "markdown",
   "metadata": {},
   "source": [
    "conda config --add channels conda-forge> Some more **BOLD** quotes here.\n",
    ">    and here."
   ]
  },
  {
   "cell_type": "markdown",
   "metadata": {},
   "source": [
    "[A link](http://google.com)"
   ]
  },
  {
   "cell_type": "markdown",
   "metadata": {},
   "source": [
    "---"
   ]
  },
  {
   "cell_type": "markdown",
   "metadata": {},
   "source": [
    "![a picture of sheep](sheep.jpg)"
   ]
  },
  {
   "cell_type": "code",
   "execution_count": null,
   "metadata": {},
   "outputs": [],
   "source": []
  }
 ],
 "metadata": {
  "kernelspec": {
   "display_name": "Java",
   "language": "java",
   "name": "java"
  },
  "language_info": {
   "codemirror_mode": "text/x-java",
   "file_extension": ".java",
   "mimetype": "",
   "name": "Java",
   "nbconverter_exporter": "",
   "version": "1.8.0_121"
  }
 },
 "nbformat": 4,
 "nbformat_minor": 4
}
